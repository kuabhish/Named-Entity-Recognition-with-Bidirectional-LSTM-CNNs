{
 "cells": [
  {
   "cell_type": "code",
   "execution_count": 1,
   "metadata": {},
   "outputs": [
    {
     "name": "stderr",
     "output_type": "stream",
     "text": [
      "Using TensorFlow backend.\n"
     ]
    }
   ],
   "source": [
    "import numpy as np \n",
    "# from validation import compute_f1\n",
    "from keras.models import Model\n",
    "from keras.layers import TimeDistributed,Conv1D,Dense,Embedding,Input,Dropout,LSTM,Bidirectional,MaxPooling1D,Flatten,concatenate\n",
    "from prepro import readfile,createBatches,createMatrices,iterate_minibatches,addCharInformatioin,padding\n",
    "from keras.utils import Progbar\n",
    "from keras.preprocessing.sequence import pad_sequences\n",
    "from keras.initializers import RandomUniform"
   ]
  },
  {
   "cell_type": "code",
   "execution_count": 2,
   "metadata": {},
   "outputs": [],
   "source": [
    "trainSentences = readfile(\"data/train.txt\")\n",
    "devSentences = readfile(\"data/valid.txt\")\n",
    "testSentences = readfile(\"data/test.txt\")"
   ]
  },
  {
   "cell_type": "code",
   "execution_count": 3,
   "metadata": {},
   "outputs": [
    {
     "data": {
      "text/plain": [
       "(14041, 3250, 3453)"
      ]
     },
     "execution_count": 3,
     "metadata": {},
     "output_type": "execute_result"
    }
   ],
   "source": [
    "len(trainSentences), len(devSentences), len(testSentences)"
   ]
  },
  {
   "cell_type": "code",
   "execution_count": 4,
   "metadata": {},
   "outputs": [
    {
     "data": {
      "text/plain": [
       "[[['EU', 'B-ORG\\n'],\n",
       "  ['rejects', 'O\\n'],\n",
       "  ['German', 'B-MISC\\n'],\n",
       "  ['call', 'O\\n'],\n",
       "  ['to', 'O\\n'],\n",
       "  ['boycott', 'O\\n'],\n",
       "  ['British', 'B-MISC\\n'],\n",
       "  ['lamb', 'O\\n'],\n",
       "  ['.', 'O\\n']],\n",
       " [['Peter', 'B-PER\\n'], ['Blackburn', 'I-PER\\n']]]"
      ]
     },
     "execution_count": 4,
     "metadata": {},
     "output_type": "execute_result"
    }
   ],
   "source": [
    "trainSentences[:2]"
   ]
  },
  {
   "cell_type": "code",
   "execution_count": 625,
   "metadata": {},
   "outputs": [],
   "source": [
    "length_of_sentences = []\n",
    "for line in trainSentences:\n",
    "  length_of_sentences.append(len(line))"
   ]
  },
  {
   "cell_type": "code",
   "execution_count": 626,
   "metadata": {},
   "outputs": [
    {
     "data": {
      "text/plain": [
       "<matplotlib.axes._subplots.AxesSubplot at 0x8951ddb108>"
      ]
     },
     "execution_count": 626,
     "metadata": {},
     "output_type": "execute_result"
    },
    {
     "data": {
      "image/png": "[encoded data removed]",
      "text/plain": [
       "<Figure size 432x288 with 1 Axes>"
      ]
     },
     "metadata": {
      "needs_background": "light"
     },
     "output_type": "display_data"
    }
   ],
   "source": [
    "import seaborn as sns\n",
    "sns.distplot(length_of_sentences)"
   ]
  },
  {
   "cell_type": "code",
   "execution_count": 627,
   "metadata": {},
   "outputs": [],
   "source": [
    "def addchars(db):\n",
    "  ndb = []\n",
    "  for sen in db:\n",
    "    nsen = []\n",
    "    for word,label in sen:\n",
    "      char = [c for c in word]\n",
    "      nsen.append([word, char , label])\n",
    "    ndb.append(nsen)\n",
    "  return ndb"
   ]
  },
  {
   "cell_type": "code",
   "execution_count": 628,
   "metadata": {},
   "outputs": [],
   "source": [
    "def pad_everything(db , max_len=None):\n",
    "  ndb = []\n",
    "  for sentence in db:\n",
    "    nsen= []\n",
    "    count = 0 \n",
    "    for s in range(len(sentence)):\n",
    "      if count == max_len:\n",
    "        break\n",
    "      count = count+1\n",
    "      nsen.append([sentence[s][0].lower() , sentence[s][1] ])\n",
    "    for c in range(s,max_len-1):\n",
    "      nsen.append(['_pad_', 'O\\n'])\n",
    "#     print(nsen)\n",
    "    ndb.append(nsen)\n",
    "  return ndb\n",
    "#     print(pad_sequences(np.array(sentences), dtype='object', padding='post', \n",
    "#                         truncating='post',maxlen=max_len,\n",
    "#                         value=['Padding_token','O\\n']))\n",
    "#     for word, label in sentences:\n",
    "#     break"
   ]
  },
  {
   "cell_type": "code",
   "execution_count": 629,
   "metadata": {},
   "outputs": [],
   "source": [
    "trainSentences = pad_everything(trainSentences,40)"
   ]
  },
  {
   "cell_type": "code",
   "execution_count": null,
   "metadata": {},
   "outputs": [],
   "source": []
  },
  {
   "cell_type": "code",
   "execution_count": 630,
   "metadata": {},
   "outputs": [],
   "source": [
    "# trainSentences[:2]"
   ]
  },
  {
   "cell_type": "code",
   "execution_count": 631,
   "metadata": {},
   "outputs": [],
   "source": [
    "wordset = set()\n",
    "labelset = set()\n",
    "labelset_counter = {}\n",
    "for line in trainSentences:\n",
    "  for tok in line:\n",
    "    wordset.add(tok[0].lower())\n",
    "    labelset.add(tok[1])\n",
    "    if tok[1] not in labelset_counter:\n",
    "      labelset_counter[tok[1]] = 1\n",
    "    else:\n",
    "      labelset_counter[tok[1]]+=1"
   ]
  },
  {
   "cell_type": "code",
   "execution_count": 632,
   "metadata": {},
   "outputs": [
    {
     "data": {
      "text/plain": [
       "{'B-ORG\\n': 6284,\n",
       " 'O\\n': 527856,\n",
       " 'B-MISC\\n': 3419,\n",
       " 'B-PER\\n': 6550,\n",
       " 'I-PER\\n': 4481,\n",
       " 'B-LOC\\n': 7090,\n",
       " 'I-ORG\\n': 3666,\n",
       " 'I-MISC\\n': 1148,\n",
       " 'I-LOC\\n': 1146}"
      ]
     },
     "execution_count": 632,
     "metadata": {},
     "output_type": "execute_result"
    }
   ],
   "source": [
    "labelset_counter"
   ]
  },
  {
   "cell_type": "code",
   "execution_count": 633,
   "metadata": {},
   "outputs": [
    {
     "data": {
      "text/plain": [
       "{'I-ORG\\n': 0,\n",
       " 'I-LOC\\n': 1,\n",
       " 'B-ORG\\n': 2,\n",
       " 'I-MISC\\n': 3,\n",
       " 'B-LOC\\n': 4,\n",
       " 'B-PER\\n': 5,\n",
       " 'I-PER\\n': 6,\n",
       " 'B-MISC\\n': 7,\n",
       " 'O\\n': 8}"
      ]
     },
     "execution_count": 633,
     "metadata": {},
     "output_type": "execute_result"
    }
   ],
   "source": [
    "label2Idx = {v:k for k ,v in enumerate(labelset)}\n",
    "label2Idx"
   ]
  },
  {
   "cell_type": "code",
   "execution_count": 634,
   "metadata": {},
   "outputs": [
    {
     "data": {
      "text/plain": [
       "20904"
      ]
     },
     "execution_count": 634,
     "metadata": {},
     "output_type": "execute_result"
    }
   ],
   "source": [
    "len(wordset)"
   ]
  },
  {
   "cell_type": "code",
   "execution_count": 635,
   "metadata": {},
   "outputs": [
    {
     "name": "stdout",
     "output_type": "stream",
     "text": [
      "Wall time: 7.94 s\n"
     ]
    }
   ],
   "source": [
    "%%time\n",
    "word2idx = {}\n",
    "wordEmbeddings = []\n",
    "fEmbeddings = open(\"embeddings/glove.6B.100d.txt\", encoding=\"utf-8\")\n",
    "for line in fEmbeddings:\n",
    "  word = line.split()[0]\n",
    "  embedding = line.split()[1:]\n",
    "  if len(word2idx) == 0:\n",
    "    word2idx['_pad_'] = len(word2idx)\n",
    "    wordEmbeddings.append(np.zeros((len(embedding))))\n",
    "    \n",
    "    word2idx['_unk_'] = len(word2idx)\n",
    "    wordEmbeddings.append(np.random.uniform(-0.25 , 0.25, len(embedding)))\n",
    "    \n",
    "  if word.lower() in wordset:\n",
    "    word2idx[word.lower()] = len(word2idx)\n",
    "    wordEmbeddings.append(embedding)\n",
    "fEmbeddings.close()"
   ]
  },
  {
   "cell_type": "code",
   "execution_count": 636,
   "metadata": {},
   "outputs": [],
   "source": [
    "wordEmbeddings = np.array(wordEmbeddings)"
   ]
  },
  {
   "cell_type": "code",
   "execution_count": 637,
   "metadata": {},
   "outputs": [
    {
     "data": {
      "text/plain": [
       "(18323, 100)"
      ]
     },
     "execution_count": 637,
     "metadata": {},
     "output_type": "execute_result"
    }
   ],
   "source": [
    "wordEmbeddings.shape"
   ]
  },
  {
   "cell_type": "code",
   "execution_count": 638,
   "metadata": {},
   "outputs": [
    {
     "data": {
      "text/plain": [
       "18323"
      ]
     },
     "execution_count": 638,
     "metadata": {},
     "output_type": "execute_result"
    }
   ],
   "source": [
    "len(word2idx)"
   ]
  },
  {
   "cell_type": "code",
   "execution_count": 639,
   "metadata": {},
   "outputs": [],
   "source": [
    "trainSentences = addCharInformatioin(trainSentences)"
   ]
  },
  {
   "cell_type": "code",
   "execution_count": 641,
   "metadata": {},
   "outputs": [],
   "source": [
    "# trainSentences[:2]"
   ]
  },
  {
   "cell_type": "code",
   "execution_count": 642,
   "metadata": {},
   "outputs": [],
   "source": [
    "char2Idx = {\"_pad_\":0, \"_unk_\":1}\n",
    "for c in \" 0123456789abcdefghijklmnopqrstuvwxyz.,-_()[]{}!?:;#'\\\"/\\\\%$`&=*+@^~|\":\n",
    "    char2Idx[c] = len(char2Idx)"
   ]
  },
  {
   "cell_type": "code",
   "execution_count": 643,
   "metadata": {},
   "outputs": [
    {
     "data": {
      "text/plain": [
       "28"
      ]
     },
     "execution_count": 643,
     "metadata": {},
     "output_type": "execute_result"
    }
   ],
   "source": [
    "char2Idx['p']"
   ]
  },
  {
   "cell_type": "code",
   "execution_count": 644,
   "metadata": {},
   "outputs": [],
   "source": [
    "def encode(db , word2Idx=None, char2idx=None,  label2idx = None):\n",
    "  encoded_db = []\n",
    "  for sentence in db:\n",
    "    encoded_sen = []\n",
    "    for word in sentence:\n",
    "      if word[0] in word2Idx:\n",
    "        encode_word = word2Idx[word[0].lower()]\n",
    "      else:\n",
    "        encode_word = word2Idx['_unk_']\n",
    "      encode_label = label2idx[word[2]]\n",
    "      encode_char = [char2idx[c] for c in word[1]]\n",
    "      encoded_sen.append([encode_word, encode_char, encode_label])\n",
    "    encoded_db.append(encoded_sen)\n",
    "  return encoded_db\n",
    "#     print(sentence)\n",
    "#     print()\n",
    "#     print(encoded_sen)\n",
    "#     break"
   ]
  },
  {
   "cell_type": "code",
   "execution_count": 645,
   "metadata": {},
   "outputs": [],
   "source": [
    "train_set = encode(trainSentences, word2idx,char2Idx, label2Idx)"
   ]
  },
  {
   "cell_type": "code",
   "execution_count": 659,
   "metadata": {},
   "outputs": [
    {
     "data": {
      "text/plain": [
       "[[[639, [17, 33], 2],\n",
       "  [6290, [30, 17, 22, 17, 15, 32, 31], 8],\n",
       "  [511, [19, 17, 30, 25, 13, 26], 7],\n",
       "  [577, [15, 13, 24, 24], 8],\n",
       "  [6, [32, 27], 8],\n",
       "  [4752, [14, 27, 37, 15, 27, 32, 32], 8],\n",
       "  [295, [14, 30, 21, 32, 21, 31, 20], 7],\n",
       "  [7618, [24, 13, 25, 14], 8],\n",
       "  [4, [39], 8],\n",
       "  [1, [42, 28, 13, 16, 42], 8],\n",
       "  [1, [42, 28, 13, 16, 42], 8],\n",
       "  [1, [42, 28, 13, 16, 42], 8],\n",
       "  [1, [42, 28, 13, 16, 42], 8],\n",
       "  [1, [42, 28, 13, 16, 42], 8],\n",
       "  [1, [42, 28, 13, 16, 42], 8],\n",
       "  [1, [42, 28, 13, 16, 42], 8],\n",
       "  [1, [42, 28, 13, 16, 42], 8],\n",
       "  [1, [42, 28, 13, 16, 42], 8],\n",
       "  [1, [42, 28, 13, 16, 42], 8],\n",
       "  [1, [42, 28, 13, 16, 42], 8],\n",
       "  [1, [42, 28, 13, 16, 42], 8],\n",
       "  [1, [42, 28, 13, 16, 42], 8],\n",
       "  [1, [42, 28, 13, 16, 42], 8],\n",
       "  [1, [42, 28, 13, 16, 42], 8],\n",
       "  [1, [42, 28, 13, 16, 42], 8],\n",
       "  [1, [42, 28, 13, 16, 42], 8],\n",
       "  [1, [42, 28, 13, 16, 42], 8],\n",
       "  [1, [42, 28, 13, 16, 42], 8],\n",
       "  [1, [42, 28, 13, 16, 42], 8],\n",
       "  [1, [42, 28, 13, 16, 42], 8],\n",
       "  [1, [42, 28, 13, 16, 42], 8],\n",
       "  [1, [42, 28, 13, 16, 42], 8],\n",
       "  [1, [42, 28, 13, 16, 42], 8],\n",
       "  [1, [42, 28, 13, 16, 42], 8],\n",
       "  [1, [42, 28, 13, 16, 42], 8],\n",
       "  [1, [42, 28, 13, 16, 42], 8],\n",
       "  [1, [42, 28, 13, 16, 42], 8],\n",
       "  [1, [42, 28, 13, 16, 42], 8],\n",
       "  [1, [42, 28, 13, 16, 42], 8],\n",
       "  [1, [42, 28, 13, 16, 42], 8]]]"
      ]
     },
     "execution_count": 659,
     "metadata": {},
     "output_type": "execute_result"
    }
   ],
   "source": [
    "train_set[:1]"
   ]
  },
  {
   "cell_type": "code",
   "execution_count": 654,
   "metadata": {},
   "outputs": [],
   "source": [
    "# def padding(db, max_length=10):\n",
    "#   for i,sent in enumerate(db):\n",
    "#     db[i][2] = pad_sequences(db[i][2] , padding='post',value=0, maxlen=max_length)\n",
    "#   return db"
   ]
  },
  {
   "cell_type": "code",
   "execution_count": 655,
   "metadata": {},
   "outputs": [],
   "source": [
    "# train_set = padding(train_set)"
   ]
  },
  {
   "cell_type": "code",
   "execution_count": 661,
   "metadata": {},
   "outputs": [
    {
     "data": {
      "text/plain": [
       "(14041, 40)"
      ]
     },
     "execution_count": 661,
     "metadata": {},
     "output_type": "execute_result"
    }
   ],
   "source": [
    "len(train_set),len(train_set[0])"
   ]
  },
  {
   "cell_type": "code",
   "execution_count": 658,
   "metadata": {},
   "outputs": [],
   "source": [
    "from keras.utils import to_categorical"
   ]
  },
  {
   "cell_type": "code",
   "execution_count": 689,
   "metadata": {},
   "outputs": [],
   "source": [
    "Xw = np.zeros((len(train_set),len(train_set[0]) ))\n",
    "Xc = np.zeros((len(train_set),len(train_set[0]), 10 ))\n",
    "Y = np.zeros((len(train_set),len(train_set[0]) ))\n",
    "for i,data in enumerate(train_set):\n",
    "  tempX = np.array(())\n",
    "  tempY = np.array(())\n",
    "  tempC = np.zeros((len(train_set[0]), 10))\n",
    "  for (k,(x,char,y)) in enumerate(data):\n",
    "    \n",
    "    tempX=np.append(tempX, x)\n",
    "    \n",
    "    if len(char)<= 10:\n",
    "      tempchar = np.array(char+[0]*(10-len(char)))\n",
    "    else:\n",
    "      tempchar = np.array(char[:10])\n",
    "      \n",
    "    tempC[k] = tempchar\n",
    "    tempY=np.append(tempY,y)\n",
    "\n",
    "  Xw[i] = tempX\n",
    "  Xc[i] = tempC\n",
    "  Y[i] = tempY"
   ]
  },
  {
   "cell_type": "code",
   "execution_count": 722,
   "metadata": {},
   "outputs": [],
   "source": [
    "# X = np.array(X)\n",
    "# Xc[0]"
   ]
  },
  {
   "cell_type": "code",
   "execution_count": 693,
   "metadata": {},
   "outputs": [],
   "source": [
    "# X.shape"
   ]
  },
  {
   "cell_type": "code",
   "execution_count": 720,
   "metadata": {},
   "outputs": [
    {
     "data": {
      "text/plain": [
       "(18323, 100)"
      ]
     },
     "execution_count": 720,
     "metadata": {},
     "output_type": "execute_result"
    }
   ],
   "source": [
    "wordEmbeddings.shape"
   ]
  },
  {
   "cell_type": "code",
   "execution_count": 695,
   "metadata": {},
   "outputs": [
    {
     "data": {
      "text/plain": [
       "(14041, 40)"
      ]
     },
     "execution_count": 695,
     "metadata": {},
     "output_type": "execute_result"
    }
   ],
   "source": [
    "Y.shape"
   ]
  },
  {
   "cell_type": "code",
   "execution_count": 696,
   "metadata": {},
   "outputs": [],
   "source": [
    "Y = to_categorical(Y)"
   ]
  },
  {
   "cell_type": "code",
   "execution_count": 726,
   "metadata": {},
   "outputs": [
    {
     "name": "stdout",
     "output_type": "stream",
     "text": [
      "(?, ?, 50)\n",
      "Model: \"model_29\"\n",
      "__________________________________________________________________________________________________\n",
      "Layer (type)                    Output Shape         Param #     Connected to                     \n",
      "==================================================================================================\n",
      "char_input (InputLayer)         (None, None, 10)     0                                            \n",
      "__________________________________________________________________________________________________\n",
      "char_embedding (TimeDistributed (None, None, 10, 6)  414         char_input[0][0]                 \n",
      "__________________________________________________________________________________________________\n",
      "dropout_11 (Dropout)            (None, None, 10, 6)  0           char_embedding[0][0]             \n",
      "__________________________________________________________________________________________________\n",
      "time_distributed_37 (TimeDistri (None, None, 10, 30) 570         dropout_11[0][0]                 \n",
      "__________________________________________________________________________________________________\n",
      "words_input (InputLayer)        (None, None)         0                                            \n",
      "__________________________________________________________________________________________________\n",
      "time_distributed_38 (TimeDistri (None, None, 300)    0           time_distributed_37[0][0]        \n",
      "__________________________________________________________________________________________________\n",
      "embedding_39 (Embedding)        (None, None, 100)    1832300     words_input[0][0]                \n",
      "__________________________________________________________________________________________________\n",
      "dropout_12 (Dropout)            (None, None, 300)    0           time_distributed_38[0][0]        \n",
      "__________________________________________________________________________________________________\n",
      "concatenate_5 (Concatenate)     (None, None, 400)    0           embedding_39[0][0]               \n",
      "                                                                 dropout_12[0][0]                 \n",
      "__________________________________________________________________________________________________\n",
      "bidirectional_30 (Bidirectional (None, None, 50)     85200       concatenate_5[0][0]              \n",
      "__________________________________________________________________________________________________\n",
      "time_distributed_39 (TimeDistri (None, None, 9)      459         bidirectional_30[0][0]           \n",
      "==================================================================================================\n",
      "Total params: 1,918,943\n",
      "Trainable params: 86,643\n",
      "Non-trainable params: 1,832,300\n",
      "__________________________________________________________________________________________________\n"
     ]
    }
   ],
   "source": [
    "words_input = Input(shape=(None,),dtype='int32',name='words_input')\n",
    "words = Embedding(input_dim=wordEmbeddings.shape[0], output_dim=wordEmbeddings.shape[1],  \n",
    "                  weights=[wordEmbeddings], \n",
    "                  trainable=False)(words_input)\n",
    "# casing_input = Input(shape=(None,), dtype='int32', name='casing_input')\n",
    "# casing = Embedding(output_dim=caseEmbeddings.shape[1], input_dim=caseEmbeddings.shape[0], weights=[caseEmbeddings], trainable=False)(casing_input)\n",
    "character_input=Input(shape=(None,10,),name='char_input')\n",
    "embed_char_out=TimeDistributed(Embedding(len(char2Idx),6,embeddings_initializer=RandomUniform(minval=-0.5, maxval=0.5)), name='char_embedding')(character_input)\n",
    "dropout= Dropout(0.5)(embed_char_out)\n",
    "conv1d_out= TimeDistributed(Conv1D(kernel_size=3, \n",
    "                                   filters=30, \n",
    "                                   padding='same',\n",
    "                                   activation='tanh', \n",
    "                                   strides=1))(dropout)\n",
    "\n",
    "# maxpool_out=TimeDistributed(MaxPooling1D())(conv1d_out)\n",
    "\n",
    "char = TimeDistributed(Flatten())(conv1d_out)\n",
    "char = Dropout(0.5)(char)\n",
    "output = concatenate([words, char])\n",
    "output = Bidirectional(LSTM(25, \n",
    "                            return_sequences=True, \n",
    "                            dropout=0.50, \n",
    "                            recurrent_dropout=0.25))(output)\n",
    "\n",
    "print(output.shape)\n",
    "output = TimeDistributed(Dense(len(label2Idx), activation='softmax'))(output)\n",
    "model = Model(inputs=[words_input, character_input], outputs=[output])\n",
    "model.compile(loss='categorical_crossentropy', optimizer='nadam', metrics=['accuracy'])\n",
    "model.summary()"
   ]
  },
  {
   "cell_type": "code",
   "execution_count": 727,
   "metadata": {
    "scrolled": true
   },
   "outputs": [
    {
     "name": "stdout",
     "output_type": "stream",
     "text": [
      "Epoch 1/5\n",
      "14041/14041 [==============================] - 60s 4ms/step - loss: 0.1803 - accuracy: 0.9525\n",
      "Epoch 2/5\n",
      "14041/14041 [==============================] - 58s 4ms/step - loss: 0.1007 - accuracy: 0.9715\n",
      "Epoch 3/5\n",
      "14041/14041 [==============================] - 54s 4ms/step - loss: 0.0821 - accuracy: 0.9761\n",
      "Epoch 4/5\n",
      "14041/14041 [==============================] - 56s 4ms/step - loss: 0.0719 - accuracy: 0.9790\n",
      "Epoch 5/5\n",
      "14041/14041 [==============================] - 56s 4ms/step - loss: 0.0667 - accuracy: 0.9806\n"
     ]
    },
    {
     "data": {
      "text/plain": [
       "<keras.callbacks.callbacks.History at 0x88867214c8>"
      ]
     },
     "execution_count": 727,
     "metadata": {},
     "output_type": "execute_result"
    }
   ],
   "source": [
    "model.fit( [Xw,Xc] , Y , epochs=5 )"
   ]
  },
  {
   "cell_type": "code",
   "execution_count": 703,
   "metadata": {},
   "outputs": [],
   "source": [
    "from sklearn.metrics import accuracy_score, f1_score, classification_report"
   ]
  },
  {
   "cell_type": "code",
   "execution_count": 713,
   "metadata": {},
   "outputs": [],
   "source": [
    "# accuracy_score( np.argmax(Y[0],axis=-1),  np.argmax(model.predict([Xw[:1],(Xc[:1])]),axis=-1))"
   ]
  },
  {
   "cell_type": "code",
   "execution_count": 717,
   "metadata": {},
   "outputs": [],
   "source": [
    "actual = np.argmax(Y[0],axis=-1)"
   ]
  },
  {
   "cell_type": "code",
   "execution_count": 718,
   "metadata": {},
   "outputs": [],
   "source": [
    "pred= np.argmax(model.predict([Xw[:1],(Xc[:1])]),axis=-1).ravel()"
   ]
  },
  {
   "cell_type": "code",
   "execution_count": 719,
   "metadata": {},
   "outputs": [
    {
     "name": "stdout",
     "output_type": "stream",
     "text": [
      "              precision    recall  f1-score   support\n",
      "\n",
      "           2       1.00      1.00      1.00         1\n",
      "           7       1.00      1.00      1.00         2\n",
      "           8       1.00      1.00      1.00        37\n",
      "\n",
      "    accuracy                           1.00        40\n",
      "   macro avg       1.00      1.00      1.00        40\n",
      "weighted avg       1.00      1.00      1.00        40\n",
      "\n"
     ]
    }
   ],
   "source": [
    "print(classification_report(actual, pred))"
   ]
  },
  {
   "cell_type": "code",
   "execution_count": 716,
   "metadata": {},
   "outputs": [],
   "source": [
    "# f1_score( np.argmax(Y[0],axis=-1),  np.argmax(model.predict(X[0]),axis=-1).ravel(),  average='macro')"
   ]
  },
  {
   "cell_type": "code",
   "execution_count": 527,
   "metadata": {},
   "outputs": [
    {
     "name": "stdout",
     "output_type": "stream",
     "text": [
      "              precision    recall  f1-score   support\n",
      "\n",
      "           2       0.00      0.00      0.00         0\n",
      "           5       1.00      1.00      1.00         1\n",
      "           6       0.00      0.00      0.00         1\n",
      "           8       1.00      1.00      1.00        38\n",
      "\n",
      "    accuracy                           0.97        40\n",
      "   macro avg       0.50      0.50      0.50        40\n",
      "weighted avg       0.97      0.97      0.97        40\n",
      "\n"
     ]
    }
   ],
   "source": [
    "print(classification_report(np.argmax(Y[1],axis=-1),  np.argmax(model.predict(X[1]),axis=-1).ravel()))"
   ]
  },
  {
   "cell_type": "code",
   "execution_count": 15,
   "metadata": {},
   "outputs": [
    {
     "data": {
      "text/plain": [
       "'the start date is 10 Jan 1997 and the end date is 10 days after the start date.'"
      ]
     },
     "execution_count": 15,
     "metadata": {},
     "output_type": "execute_result"
    }
   ],
   "source": [
    "import re\n",
    "sentence = 'the start date is 10 Jan 1997 and the end date is 10 days after the start date.'\n",
    "sentence"
   ]
  },
  {
   "cell_type": "code",
   "execution_count": 16,
   "metadata": {},
   "outputs": [
    {
     "name": "stdout",
     "output_type": "stream",
     "text": [
      "2019-03-05 00:00:00 2019-03-26 00:00:00\n"
     ]
    }
   ],
   "source": [
    "from datetime import datetime, timedelta\n",
    "specific_date = datetime(2019, 3, 5)\n",
    "new_date = specific_date + timedelta(21)\n",
    "print (specific_date, new_date)"
   ]
  },
  {
   "cell_type": "code",
   "execution_count": 20,
   "metadata": {},
   "outputs": [],
   "source": [
    "import datefinder\n",
    "mm = datefinder.find_dates(sentence)"
   ]
  },
  {
   "cell_type": "code",
   "execution_count": 21,
   "metadata": {},
   "outputs": [
    {
     "name": "stdout",
     "output_type": "stream",
     "text": [
      "1997-01-10 00:00:00\n"
     ]
    }
   ],
   "source": [
    "for m in mm:\n",
    "  print(m)"
   ]
  },
  {
   "cell_type": "code",
   "execution_count": null,
   "metadata": {},
   "outputs": [],
   "source": []
  },
  {
   "cell_type": "code",
   "execution_count": null,
   "metadata": {},
   "outputs": [],
   "source": []
  }
 ],
 "metadata": {
  "kernelspec": {
   "display_name": "Python 3",
   "language": "python",
   "name": "python3"
  },
  "language_info": {
   "codemirror_mode": {
    "name": "ipython",
    "version": 3
   },
   "file_extension": ".py",
   "mimetype": "text/x-python",
   "name": "python",
   "nbconvert_exporter": "python",
   "pygments_lexer": "ipython3",
   "version": "3.7.4"
  }
 },
 "nbformat": 4,
 "nbformat_minor": 2
}
